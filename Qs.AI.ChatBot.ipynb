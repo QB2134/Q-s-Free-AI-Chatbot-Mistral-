{
 "cells": [
  {
   "cell_type": "code",
   "execution_count": null,
   "id": "0d0c4fa9-93e2-464d-b95f-1af01fc0d809",
   "metadata": {},
   "outputs": [],
   "source": [
    "import streamlit as st\n",
    "import subprocess\n",
    "\n",
    "st.title(\"Q's Free AI Chatbot (Mistral)\")\n",
    "\n",
    "if \"chat_history\" not in st.session_state:\n",
    "    st.session_state.chat_history = []\n",
    "\n",
    "for role, text in st.session_state.chat_history:\n",
    "    st.chat_message(role).write(text)\n",
    "\n",
    "prompt = st.chat_input(\"Type your message...\")\n",
    "\n",
    "if prompt:\n",
    "    st.session_state.chat_history.append((\"user\", prompt))\n",
    "\n",
    "    with st.spinner(\"Thinking...\"):\n",
    "        try:\n",
    "            result = subprocess.run(\n",
    "                [\"ollama\", \"run\", \"mistral\", prompt],\n",
    "                capture_output=True,\n",
    "                text=True,\n",
    "                timeout=60\n",
    "            )\n",
    "\n",
    "            if result.returncode != 0:\n",
    "                reply = f\"Error: {result.stderr.strip()}\"\n",
    "            else:\n",
    "                reply = result.stdout.strip()\n",
    "\n",
    "        except Exception as e:\n",
    "            reply = f\"Exception: {e}\"\n",
    "\n",
    "    st.session_state.chat_history.append((\"assistant\", reply))\n",
    "    st.chat_message(\"assistant\").write(reply)\n"
   ]
  }
 ],
 "metadata": {
  "kernelspec": {
   "display_name": "Python 3 (ipykernel)",
   "language": "python",
   "name": "python3"
  },
  "language_info": {
   "codemirror_mode": {
    "name": "ipython",
    "version": 3
   },
   "file_extension": ".py",
   "mimetype": "text/x-python",
   "name": "python",
   "nbconvert_exporter": "python",
   "pygments_lexer": "ipython3",
   "version": "3.13.5"
  }
 },
 "nbformat": 4,
 "nbformat_minor": 5
}
